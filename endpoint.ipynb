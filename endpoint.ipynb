{
 "cells": [
  {
   "cell_type": "code",
   "execution_count": 7,
   "id": "646ec4ec",
   "metadata": {},
   "outputs": [],
   "source": [
    "import pandas as pd\n",
    "import numpy as np\n",
    "from statsmodels.tsa.statespace.sarimax import SARIMAX\n",
    "from statsmodels.tsa.statespace.sarimax import SARIMAXResults\n",
    "\n",
    "n_steps = 12\n",
    "Alkohol_model = SARIMAXResults.load('Alkoholunfälle_model.pkl')\n",
    "Flucht_model = SARIMAXResults.load('Fluchtunfälle_model.pkl')\n",
    "Verkehrs_model = SARIMAXResults.load('Verkehrsunfälle_model.pkl')\n",
    "\n",
    "models = [Alkohol_model, Flucht_model, Verkehrs_model]\n",
    "\n",
    "output_value = []\n",
    "for model in models:\n",
    "    forecast = model.get_forecast(steps=n_steps)\n",
    "    mean_forecast = forecast.predicted_mean\n",
    "    output_value.append(mean_forecast[-1])\n",
    "\n",
    "final_value = np.sum(output_value)"
   ]
  },
  {
   "cell_type": "code",
   "execution_count": null,
   "id": "0d8392b2",
   "metadata": {},
   "outputs": [],
   "source": []
  },
  {
   "cell_type": "code",
   "execution_count": null,
   "id": "d1e0ecbb",
   "metadata": {},
   "outputs": [],
   "source": []
  }
 ],
 "metadata": {
  "kernelspec": {
   "display_name": "Python 3",
   "language": "python",
   "name": "python3"
  },
  "language_info": {
   "codemirror_mode": {
    "name": "ipython",
    "version": 3
   },
   "file_extension": ".py",
   "mimetype": "text/x-python",
   "name": "python",
   "nbconvert_exporter": "python",
   "pygments_lexer": "ipython3",
   "version": "3.8.8"
  }
 },
 "nbformat": 4,
 "nbformat_minor": 5
}
