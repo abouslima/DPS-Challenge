{
 "cells": [
  {
   "cell_type": "markdown",
   "id": "3f6559ff",
   "metadata": {},
   "source": [
    "The forecasting for the year 2021 will be done using the SARIMA model, as the data as can be deduced from the graphs in the Visualization notebook has seasonality, and has a trend, so it isn't stationary.\n",
    "The pmdarima library will be used to search for the best fitting paramters to pass for the SARIMA model.\n",
    "The data forecasting will be applied on each category separately, using the year 2020 values to test the model performance, then forecasting for the year 2021."
   ]
  },
  {
   "cell_type": "code",
   "execution_count": 146,
   "id": "067a2a60",
   "metadata": {},
   "outputs": [],
   "source": [
    "import pandas as pd\n",
    "from statsmodels.tsa.statespace.sarimax import SARIMAX\n",
    "from pmdarima import auto_arima\n",
    "from pmdarima.arima.utils import ndiffs, nsdiffs"
   ]
  },
  {
   "cell_type": "code",
   "execution_count": 16,
   "id": "ddd70269",
   "metadata": {},
   "outputs": [
    {
     "data": {
      "text/html": [
       "<div>\n",
       "<style scoped>\n",
       "    .dataframe tbody tr th:only-of-type {\n",
       "        vertical-align: middle;\n",
       "    }\n",
       "\n",
       "    .dataframe tbody tr th {\n",
       "        vertical-align: top;\n",
       "    }\n",
       "\n",
       "    .dataframe thead th {\n",
       "        text-align: right;\n",
       "    }\n",
       "</style>\n",
       "<table border=\"1\" class=\"dataframe\">\n",
       "  <thead>\n",
       "    <tr style=\"text-align: right;\">\n",
       "      <th></th>\n",
       "      <th>Alkoholunfälle</th>\n",
       "      <th>Fluchtunfälle</th>\n",
       "      <th>Verkehrsunfälle</th>\n",
       "    </tr>\n",
       "    <tr>\n",
       "      <th>DATE</th>\n",
       "      <th></th>\n",
       "      <th></th>\n",
       "      <th></th>\n",
       "    </tr>\n",
       "  </thead>\n",
       "  <tbody>\n",
       "    <tr>\n",
       "      <th>2000-01-01</th>\n",
       "      <td>78.0</td>\n",
       "      <td>835.0</td>\n",
       "      <td>3448.0</td>\n",
       "    </tr>\n",
       "    <tr>\n",
       "      <th>2000-02-01</th>\n",
       "      <td>53.0</td>\n",
       "      <td>890.0</td>\n",
       "      <td>3181.0</td>\n",
       "    </tr>\n",
       "    <tr>\n",
       "      <th>2000-03-01</th>\n",
       "      <td>73.0</td>\n",
       "      <td>974.0</td>\n",
       "      <td>3783.0</td>\n",
       "    </tr>\n",
       "    <tr>\n",
       "      <th>2000-04-01</th>\n",
       "      <td>78.0</td>\n",
       "      <td>834.0</td>\n",
       "      <td>3317.0</td>\n",
       "    </tr>\n",
       "    <tr>\n",
       "      <th>2000-05-01</th>\n",
       "      <td>96.0</td>\n",
       "      <td>1086.0</td>\n",
       "      <td>4123.0</td>\n",
       "    </tr>\n",
       "  </tbody>\n",
       "</table>\n",
       "</div>"
      ],
      "text/plain": [
       "            Alkoholunfälle  Fluchtunfälle  Verkehrsunfälle\n",
       "DATE                                                      \n",
       "2000-01-01            78.0          835.0           3448.0\n",
       "2000-02-01            53.0          890.0           3181.0\n",
       "2000-03-01            73.0          974.0           3783.0\n",
       "2000-04-01            78.0          834.0           3317.0\n",
       "2000-05-01            96.0         1086.0           4123.0"
      ]
     },
     "execution_count": 16,
     "metadata": {},
     "output_type": "execute_result"
    }
   ],
   "source": [
    "df = pd.read_csv('processed_dataframe.csv', index_col='DATE', parse_dates=True)\n",
    "df.head()"
   ]
  },
  {
   "cell_type": "markdown",
   "id": "7613f928",
   "metadata": {},
   "source": [
    "Now separating each category in a dataframe, and adding them into a dictionary"
   ]
  },
  {
   "cell_type": "code",
   "execution_count": 149,
   "id": "f2e4703d",
   "metadata": {},
   "outputs": [],
   "source": [
    "Alkohol_df = df[['Alkoholunfälle']]\n",
    "Flucht_df = df[['Fluchtunfälle']]\n",
    "Verkehrs_df = df[['Verkehrsunfälle']]\n",
    "dataframes = {'Alkoholunfälle': Alkohol_df, 'Fluchtunfälle': Flucht_df, 'Verkehrsunfälle': Verkehrs_df}"
   ]
  },
  {
   "cell_type": "markdown",
   "id": "ed1350e3",
   "metadata": {},
   "source": [
    "The next step is to estimate the the number of required differences and seasonal differences, if any. the values will be passed as parameters for the 'auto_arima' class to estimate the orders for AR and MA for both the time series and seasonality (p, q, P and Q)"
   ]
  },
  {
   "cell_type": "code",
   "execution_count": 156,
   "id": "bc968bdf",
   "metadata": {},
   "outputs": [],
   "source": [
    "ndiff_estimated = {category:[] for category in dataframes.keys()}\n",
    "for category, dataframe in dataframes.items():\n",
    "    ndiff_estimated[category].append(ndiffs(dataframe, max_d=3))\n",
    "    ndiff_estimated[category].append(nsdiffs(dataframe, max_D=3, m=12))"
   ]
  },
  {
   "cell_type": "code",
   "execution_count": 164,
   "id": "ab5a9135",
   "metadata": {},
   "outputs": [
    {
     "name": "stdout",
     "output_type": "stream",
     "text": [
      "<generator object <genexpr> at 0x000001FB007CB820>\n"
     ]
    }
   ],
   "source": [
    "for key, value in ndiff_estimated.items())"
   ]
  },
  {
   "cell_type": "code",
   "execution_count": 153,
   "id": "d37cdd39",
   "metadata": {},
   "outputs": [
    {
     "data": {
      "text/plain": [
       "{'Alkoholunfälle': [], 'Fluchtunfälle': [], 'Verkehrsunfälle': []}"
      ]
     },
     "execution_count": 153,
     "metadata": {},
     "output_type": "execute_result"
    }
   ],
   "source": []
  },
  {
   "cell_type": "code",
   "execution_count": 143,
   "id": "400a0a5f",
   "metadata": {},
   "outputs": [],
   "source": []
  },
  {
   "cell_type": "code",
   "execution_count": 144,
   "id": "e5b08890",
   "metadata": {},
   "outputs": [
    {
     "data": {
      "text/plain": [
       "0"
      ]
     },
     "execution_count": 144,
     "metadata": {},
     "output_type": "execute_result"
    }
   ],
   "source": [
    "D"
   ]
  },
  {
   "cell_type": "code",
   "execution_count": 131,
   "id": "efdde6d1",
   "metadata": {},
   "outputs": [
    {
     "name": "stdout",
     "output_type": "stream",
     "text": [
      "0 1 0\n"
     ]
    }
   ],
   "source": [
    "print(n_adf, n_kpss, n_pp)"
   ]
  },
  {
   "cell_type": "code",
   "execution_count": 136,
   "id": "bf2f2c94",
   "metadata": {},
   "outputs": [
    {
     "name": "stdout",
     "output_type": "stream",
     "text": [
      "Performing stepwise search to minimize aic\n",
      " ARIMA(2,1,2)(1,0,1)[12] intercept   : AIC=inf, Time=0.69 sec\n",
      " ARIMA(0,1,0)(0,0,0)[12] intercept   : AIC=3863.446, Time=0.01 sec\n",
      " ARIMA(1,1,0)(1,0,0)[12] intercept   : AIC=3642.865, Time=0.13 sec\n",
      " ARIMA(0,1,1)(0,0,1)[12] intercept   : AIC=3653.615, Time=0.25 sec\n",
      " ARIMA(0,1,0)(0,0,0)[12]             : AIC=3861.456, Time=0.01 sec\n",
      " ARIMA(1,1,0)(0,0,0)[12] intercept   : AIC=3794.308, Time=0.02 sec\n",
      " ARIMA(1,1,0)(2,0,0)[12] intercept   : AIC=3627.383, Time=0.38 sec\n",
      " ARIMA(1,1,0)(3,0,0)[12] intercept   : AIC=inf, Time=1.04 sec\n",
      " ARIMA(1,1,0)(2,0,1)[12] intercept   : AIC=3589.403, Time=1.05 sec\n",
      " ARIMA(1,1,0)(1,0,1)[12] intercept   : AIC=3586.558, Time=0.41 sec\n",
      " ARIMA(1,1,0)(0,0,1)[12] intercept   : AIC=3704.825, Time=0.14 sec\n",
      " ARIMA(1,1,0)(1,0,2)[12] intercept   : AIC=3587.488, Time=1.01 sec\n",
      " ARIMA(1,1,0)(0,0,2)[12] intercept   : AIC=3682.070, Time=0.37 sec\n",
      " ARIMA(1,1,0)(2,0,2)[12] intercept   : AIC=inf, Time=1.03 sec\n",
      " ARIMA(0,1,0)(1,0,1)[12] intercept   : AIC=3653.992, Time=0.24 sec\n",
      " ARIMA(2,1,0)(1,0,1)[12] intercept   : AIC=3562.875, Time=0.55 sec\n",
      " ARIMA(2,1,0)(0,0,1)[12] intercept   : AIC=3687.363, Time=0.16 sec\n",
      " ARIMA(2,1,0)(1,0,0)[12] intercept   : AIC=3618.364, Time=0.28 sec\n",
      " ARIMA(2,1,0)(2,0,1)[12] intercept   : AIC=3566.529, Time=1.20 sec\n",
      " ARIMA(2,1,0)(1,0,2)[12] intercept   : AIC=3569.403, Time=0.99 sec\n",
      " ARIMA(2,1,0)(0,0,0)[12] intercept   : AIC=3782.214, Time=0.02 sec\n",
      " ARIMA(2,1,0)(0,0,2)[12] intercept   : AIC=3663.831, Time=0.41 sec\n",
      " ARIMA(2,1,0)(2,0,0)[12] intercept   : AIC=3600.804, Time=0.57 sec\n",
      " ARIMA(2,1,0)(2,0,2)[12] intercept   : AIC=inf, Time=1.21 sec\n",
      " ARIMA(3,1,0)(1,0,1)[12] intercept   : AIC=3550.385, Time=0.69 sec\n",
      " ARIMA(3,1,0)(0,0,1)[12] intercept   : AIC=3678.175, Time=0.21 sec\n",
      " ARIMA(3,1,0)(1,0,0)[12] intercept   : AIC=3603.445, Time=0.34 sec\n",
      " ARIMA(3,1,0)(2,0,1)[12] intercept   : AIC=3553.874, Time=1.33 sec\n",
      " ARIMA(3,1,0)(1,0,2)[12] intercept   : AIC=3552.246, Time=1.43 sec\n",
      " ARIMA(3,1,0)(0,0,0)[12] intercept   : AIC=3775.324, Time=0.05 sec\n",
      " ARIMA(3,1,0)(0,0,2)[12] intercept   : AIC=3652.940, Time=0.57 sec\n",
      " ARIMA(3,1,0)(2,0,0)[12] intercept   : AIC=3584.771, Time=0.85 sec\n",
      " ARIMA(3,1,0)(2,0,2)[12] intercept   : AIC=inf, Time=1.66 sec\n",
      " ARIMA(3,1,1)(1,0,1)[12] intercept   : AIC=3573.771, Time=0.78 sec\n",
      " ARIMA(2,1,1)(1,0,1)[12] intercept   : AIC=inf, Time=0.72 sec\n",
      " ARIMA(3,1,0)(1,0,1)[12]             : AIC=inf, Time=0.53 sec\n",
      "\n",
      "Best model:  ARIMA(3,1,0)(1,0,1)[12] intercept\n",
      "Total fit time: 21.365 seconds\n"
     ]
    }
   ],
   "source": [
    "model1 = pm.auto_arima(Verkehrs_df, seasonal=True, m=12, max_p=3, max_q=3,\n",
    "                       max_Q=3, max_P=3, max_D=3, max_d=3, trace=True,\n",
    "                      error_action='ignore', suppress_warnings=True, stepwise=True) "
   ]
  },
  {
   "cell_type": "code",
   "execution_count": 102,
   "id": "a6986afc",
   "metadata": {},
   "outputs": [
    {
     "name": "stderr",
     "output_type": "stream",
     "text": [
      "C:\\ProgramData\\Anaconda3\\lib\\site-packages\\statsmodels\\tsa\\base\\tsa_model.py:524: ValueWarning: No frequency information was provided, so inferred frequency MS will be used.\n",
      "  warnings.warn('No frequency information was'\n",
      "C:\\ProgramData\\Anaconda3\\lib\\site-packages\\statsmodels\\tsa\\base\\tsa_model.py:524: ValueWarning: No frequency information was provided, so inferred frequency MS will be used.\n",
      "  warnings.warn('No frequency information was'\n"
     ]
    }
   ],
   "source": [
    "model = SARIMAX(Alkohol_df, order=(1,1,2), seasonal_order=(1,1,2,12))\n",
    "results = model.fit()"
   ]
  },
  {
   "cell_type": "code",
   "execution_count": 161,
   "id": "16765edb",
   "metadata": {},
   "outputs": [
    {
     "data": {
      "text/plain": [
       "(1, 0, 1, 12)"
      ]
     },
     "execution_count": 161,
     "metadata": {},
     "output_type": "execute_result"
    }
   ],
   "source": []
  },
  {
   "cell_type": "code",
   "execution_count": 104,
   "id": "5fdc7e5b",
   "metadata": {},
   "outputs": [],
   "source": [
    "predict = results.get_prediction(start=-12)"
   ]
  },
  {
   "cell_type": "code",
   "execution_count": 105,
   "id": "d214455a",
   "metadata": {},
   "outputs": [],
   "source": [
    "mean = predict.predicted_mean"
   ]
  },
  {
   "cell_type": "code",
   "execution_count": 106,
   "id": "91dc96d6",
   "metadata": {},
   "outputs": [
    {
     "data": {
      "text/plain": [
       "2020-01-01    24.666248\n",
       "2020-02-01    24.956912\n",
       "2020-03-01    35.929905\n",
       "2020-04-01    31.761157\n",
       "2020-05-01    38.244003\n",
       "2020-06-01    41.159640\n",
       "2020-07-01    51.552973\n",
       "2020-08-01    40.975514\n",
       "2020-09-01    47.467620\n",
       "2020-10-01    41.222063\n",
       "2020-11-01    33.717817\n",
       "2020-12-01    31.675202\n",
       "Freq: MS, Name: predicted_mean, dtype: float64"
      ]
     },
     "execution_count": 106,
     "metadata": {},
     "output_type": "execute_result"
    }
   ],
   "source": [
    "mean"
   ]
  },
  {
   "cell_type": "code",
   "execution_count": 107,
   "id": "dcb76628",
   "metadata": {},
   "outputs": [
    {
     "data": {
      "text/plain": [
       "<AxesSubplot:xlabel='DATE'>"
      ]
     },
     "execution_count": 107,
     "metadata": {},
     "output_type": "execute_result"
    },
    {
     "data": {
      "image/png": "[encoded data removed]",
      "text/plain": [
       "<Figure size 432x288 with 1 Axes>"
      ]
     },
     "metadata": {
      "needs_background": "light"
     },
     "output_type": "display_data"
    }
   ],
   "source": [
    "import matplotlib.pyplot as plt\n",
    "%matplotlib inline\n",
    "\n",
    "fig, ax = plt.subplots()\n",
    "ax.plot(mean.index, mean)\n",
    "Alkohol_df.loc['2020':].plot(ax=ax)"
   ]
  },
  {
   "cell_type": "code",
   "execution_count": 88,
   "id": "82876b2c",
   "metadata": {},
   "outputs": [
    {
     "data": {
      "text/plain": [
       "(252, 3)"
      ]
     },
     "execution_count": 88,
     "metadata": {},
     "output_type": "execute_result"
    }
   ],
   "source": [
    "df.shape"
   ]
  },
  {
   "cell_type": "code",
   "execution_count": null,
   "id": "f34d9aa3",
   "metadata": {},
   "outputs": [],
   "source": []
  }
 ],
 "metadata": {
  "kernelspec": {
   "display_name": "Python 3",
   "language": "python",
   "name": "python3"
  },
  "language_info": {
   "codemirror_mode": {
    "name": "ipython",
    "version": 3
   },
   "file_extension": ".py",
   "mimetype": "text/x-python",
   "name": "python",
   "nbconvert_exporter": "python",
   "pygments_lexer": "ipython3",
   "version": "3.8.8"
  }
 },
 "nbformat": 4,
 "nbformat_minor": 5
}
