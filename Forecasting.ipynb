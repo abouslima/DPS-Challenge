{
 "cells": [
  {
   "cell_type": "markdown",
   "id": "c2b64aba",
   "metadata": {},
   "source": [
    "The forecasting for the year 2021 will be done using the SARIMA model, as the data as can be deduced from the graphs in the Visualization notebook has seasonality, and has a trend, so it isn't stationary.\n",
    "The pmdarima library will be used to search for the best fitting paramters to pass for the SARIMA model.\n",
    "The data forecasting will be applied on each category separately, using the year 2020 values to test the model performance, then forecasting for the year 2021."
   ]
  },
  {
   "cell_type": "code",
   "execution_count": 9,
   "id": "9b9eb609",
   "metadata": {},
   "outputs": [],
   "source": [
    "import pandas as pd\n",
    "from statsmodels.tsa.statespace.sarimax import SARIMAX\n",
    "from pmdarima import auto_arima"
   ]
  },
  {
   "cell_type": "code",
   "execution_count": 16,
   "id": "783e6b52",
   "metadata": {},
   "outputs": [
    {
     "data": {
      "text/html": [
       "<div>\n",
       "<style scoped>\n",
       "    .dataframe tbody tr th:only-of-type {\n",
       "        vertical-align: middle;\n",
       "    }\n",
       "\n",
       "    .dataframe tbody tr th {\n",
       "        vertical-align: top;\n",
       "    }\n",
       "\n",
       "    .dataframe thead th {\n",
       "        text-align: right;\n",
       "    }\n",
       "</style>\n",
       "<table border=\"1\" class=\"dataframe\">\n",
       "  <thead>\n",
       "    <tr style=\"text-align: right;\">\n",
       "      <th></th>\n",
       "      <th>Alkoholunfälle</th>\n",
       "      <th>Fluchtunfälle</th>\n",
       "      <th>Verkehrsunfälle</th>\n",
       "    </tr>\n",
       "    <tr>\n",
       "      <th>DATE</th>\n",
       "      <th></th>\n",
       "      <th></th>\n",
       "      <th></th>\n",
       "    </tr>\n",
       "  </thead>\n",
       "  <tbody>\n",
       "    <tr>\n",
       "      <th>2000-01-01</th>\n",
       "      <td>78.0</td>\n",
       "      <td>835.0</td>\n",
       "      <td>3448.0</td>\n",
       "    </tr>\n",
       "    <tr>\n",
       "      <th>2000-02-01</th>\n",
       "      <td>53.0</td>\n",
       "      <td>890.0</td>\n",
       "      <td>3181.0</td>\n",
       "    </tr>\n",
       "    <tr>\n",
       "      <th>2000-03-01</th>\n",
       "      <td>73.0</td>\n",
       "      <td>974.0</td>\n",
       "      <td>3783.0</td>\n",
       "    </tr>\n",
       "    <tr>\n",
       "      <th>2000-04-01</th>\n",
       "      <td>78.0</td>\n",
       "      <td>834.0</td>\n",
       "      <td>3317.0</td>\n",
       "    </tr>\n",
       "    <tr>\n",
       "      <th>2000-05-01</th>\n",
       "      <td>96.0</td>\n",
       "      <td>1086.0</td>\n",
       "      <td>4123.0</td>\n",
       "    </tr>\n",
       "  </tbody>\n",
       "</table>\n",
       "</div>"
      ],
      "text/plain": [
       "            Alkoholunfälle  Fluchtunfälle  Verkehrsunfälle\n",
       "DATE                                                      \n",
       "2000-01-01            78.0          835.0           3448.0\n",
       "2000-02-01            53.0          890.0           3181.0\n",
       "2000-03-01            73.0          974.0           3783.0\n",
       "2000-04-01            78.0          834.0           3317.0\n",
       "2000-05-01            96.0         1086.0           4123.0"
      ]
     },
     "execution_count": 16,
     "metadata": {},
     "output_type": "execute_result"
    }
   ],
   "source": [
    "df = pd.read_csv('processed_dataframe.csv', index_col='DATE', parse_dates=True)\n",
    "df.head()"
   ]
  },
  {
   "cell_type": "code",
   "execution_count": 17,
   "id": "c3533e18",
   "metadata": {},
   "outputs": [],
   "source": [
    "Alkohol_df = df[['Alkoholunfälle']]\n",
    "Flucht_df = df[['Fluchtunfälle']]\n",
    "Verkehrs_df = df[['Verkehrsunfälle']]"
   ]
  },
  {
   "cell_type": "code",
   "execution_count": 21,
   "id": "3bb12a32",
   "metadata": {},
   "outputs": [
    {
     "name": "stderr",
     "output_type": "stream",
     "text": [
      "C:\\ProgramData\\Anaconda3\\lib\\site-packages\\statsmodels\\tsa\\base\\tsa_model.py:524: ValueWarning: No frequency information was provided, so inferred frequency MS will be used.\n",
      "  warnings.warn('No frequency information was'\n",
      "C:\\ProgramData\\Anaconda3\\lib\\site-packages\\statsmodels\\tsa\\base\\tsa_model.py:524: ValueWarning: No frequency information was provided, so inferred frequency MS will be used.\n",
      "  warnings.warn('No frequency information was'\n"
     ]
    }
   ],
   "source": [
    "model = SARIMAX(Alkohol_df, order=(1,0,1), seasonal_order=(1,0,1,12))\n",
    "results = model.fit()"
   ]
  },
  {
   "cell_type": "code",
   "execution_count": 22,
   "id": "11feb345",
   "metadata": {},
   "outputs": [
    {
     "data": {
      "text/html": [
       "<table class=\"simpletable\">\n",
       "<caption>SARIMAX Results</caption>\n",
       "<tr>\n",
       "  <th>Dep. Variable:</th>           <td>Alkoholunfälle</td>         <th>  No. Observations:  </th>    <td>252</td>  \n",
       "</tr>\n",
       "<tr>\n",
       "  <th>Model:</th>           <td>SARIMAX(1, 0, 1)x(1, 0, 1, 12)</td> <th>  Log Likelihood     </th> <td>-904.561</td>\n",
       "</tr>\n",
       "<tr>\n",
       "  <th>Date:</th>                   <td>Sun, 18 Jul 2021</td>        <th>  AIC                </th> <td>1819.123</td>\n",
       "</tr>\n",
       "<tr>\n",
       "  <th>Time:</th>                       <td>15:07:19</td>            <th>  BIC                </th> <td>1836.770</td>\n",
       "</tr>\n",
       "<tr>\n",
       "  <th>Sample:</th>                    <td>01-01-2000</td>           <th>  HQIC               </th> <td>1826.224</td>\n",
       "</tr>\n",
       "<tr>\n",
       "  <th></th>                          <td>- 12-01-2020</td>          <th>                     </th>     <td> </td>   \n",
       "</tr>\n",
       "<tr>\n",
       "  <th>Covariance Type:</th>               <td>opg</td>              <th>                     </th>     <td> </td>   \n",
       "</tr>\n",
       "</table>\n",
       "<table class=\"simpletable\">\n",
       "<tr>\n",
       "      <td></td>        <th>coef</th>     <th>std err</th>      <th>z</th>      <th>P>|z|</th>  <th>[0.025</th>    <th>0.975]</th>  \n",
       "</tr>\n",
       "<tr>\n",
       "  <th>ar.L1</th>    <td>    0.9969</td> <td>    0.005</td> <td>  214.489</td> <td> 0.000</td> <td>    0.988</td> <td>    1.006</td>\n",
       "</tr>\n",
       "<tr>\n",
       "  <th>ma.L1</th>    <td>   -0.8843</td> <td>    0.034</td> <td>  -26.393</td> <td> 0.000</td> <td>   -0.950</td> <td>   -0.819</td>\n",
       "</tr>\n",
       "<tr>\n",
       "  <th>ar.S.L12</th> <td>    0.9777</td> <td>    0.013</td> <td>   74.099</td> <td> 0.000</td> <td>    0.952</td> <td>    1.004</td>\n",
       "</tr>\n",
       "<tr>\n",
       "  <th>ma.S.L12</th> <td>   -0.7510</td> <td>    0.069</td> <td>  -10.848</td> <td> 0.000</td> <td>   -0.887</td> <td>   -0.615</td>\n",
       "</tr>\n",
       "<tr>\n",
       "  <th>sigma2</th>   <td>   70.6758</td> <td>    5.844</td> <td>   12.093</td> <td> 0.000</td> <td>   59.221</td> <td>   82.130</td>\n",
       "</tr>\n",
       "</table>\n",
       "<table class=\"simpletable\">\n",
       "<tr>\n",
       "  <th>Ljung-Box (L1) (Q):</th>     <td>2.74</td> <th>  Jarque-Bera (JB):  </th> <td>2.62</td>\n",
       "</tr>\n",
       "<tr>\n",
       "  <th>Prob(Q):</th>                <td>0.10</td> <th>  Prob(JB):          </th> <td>0.27</td>\n",
       "</tr>\n",
       "<tr>\n",
       "  <th>Heteroskedasticity (H):</th> <td>0.60</td> <th>  Skew:              </th> <td>0.12</td>\n",
       "</tr>\n",
       "<tr>\n",
       "  <th>Prob(H) (two-sided):</th>    <td>0.02</td> <th>  Kurtosis:          </th> <td>3.44</td>\n",
       "</tr>\n",
       "</table><br/><br/>Warnings:<br/>[1] Covariance matrix calculated using the outer product of gradients (complex-step)."
      ],
      "text/plain": [
       "<class 'statsmodels.iolib.summary.Summary'>\n",
       "\"\"\"\n",
       "                                     SARIMAX Results                                      \n",
       "==========================================================================================\n",
       "Dep. Variable:                     Alkoholunfälle   No. Observations:                  252\n",
       "Model:             SARIMAX(1, 0, 1)x(1, 0, 1, 12)   Log Likelihood                -904.561\n",
       "Date:                            Sun, 18 Jul 2021   AIC                           1819.123\n",
       "Time:                                    15:07:19   BIC                           1836.770\n",
       "Sample:                                01-01-2000   HQIC                          1826.224\n",
       "                                     - 12-01-2020                                         \n",
       "Covariance Type:                              opg                                         \n",
       "==============================================================================\n",
       "                 coef    std err          z      P>|z|      [0.025      0.975]\n",
       "------------------------------------------------------------------------------\n",
       "ar.L1          0.9969      0.005    214.489      0.000       0.988       1.006\n",
       "ma.L1         -0.8843      0.034    -26.393      0.000      -0.950      -0.819\n",
       "ar.S.L12       0.9777      0.013     74.099      0.000       0.952       1.004\n",
       "ma.S.L12      -0.7510      0.069    -10.848      0.000      -0.887      -0.615\n",
       "sigma2        70.6758      5.844     12.093      0.000      59.221      82.130\n",
       "===================================================================================\n",
       "Ljung-Box (L1) (Q):                   2.74   Jarque-Bera (JB):                 2.62\n",
       "Prob(Q):                              0.10   Prob(JB):                         0.27\n",
       "Heteroskedasticity (H):               0.60   Skew:                             0.12\n",
       "Prob(H) (two-sided):                  0.02   Kurtosis:                         3.44\n",
       "===================================================================================\n",
       "\n",
       "Warnings:\n",
       "[1] Covariance matrix calculated using the outer product of gradients (complex-step).\n",
       "\"\"\""
      ]
     },
     "execution_count": 22,
     "metadata": {},
     "output_type": "execute_result"
    }
   ],
   "source": [
    "results.summary()"
   ]
  },
  {
   "cell_type": "code",
   "execution_count": null,
   "id": "cd09c5ce",
   "metadata": {},
   "outputs": [],
   "source": []
  }
 ],
 "metadata": {
  "kernelspec": {
   "display_name": "Python 3",
   "language": "python",
   "name": "python3"
  },
  "language_info": {
   "codemirror_mode": {
    "name": "ipython",
    "version": 3
   },
   "file_extension": ".py",
   "mimetype": "text/x-python",
   "name": "python",
   "nbconvert_exporter": "python",
   "pygments_lexer": "ipython3",
   "version": "3.8.8"
  }
 },
 "nbformat": 4,
 "nbformat_minor": 5
}
